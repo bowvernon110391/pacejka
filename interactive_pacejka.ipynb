{
 "cells": [
  {
   "cell_type": "code",
   "execution_count": 72,
   "id": "f5592382",
   "metadata": {},
   "outputs": [],
   "source": [
    "from math import sin, atan\n",
    "from ipywidgets import interactive, FloatSlider\n",
    "import matplotlib.pyplot as plt\n",
    "import numpy as np\n",
    "%matplotlib inline\n",
    "\n",
    "# The pacejka magic formula\n",
    "def pacejkaMF(slip, B, C, D, E):\n",
    "    '''\n",
    "    slip = slip ratio (from -100 - 100), or angle (-90 to 90)\n",
    "\n",
    "    B = define the width of the peak + how sharp it is\n",
    "\n",
    "    C = define the height of the peak\n",
    "\n",
    "    D = vertical scale of the shape\n",
    "    \n",
    "    E = how sharp it drops after peak\n",
    "    '''\n",
    "    Bx = B * slip\n",
    "    return D * sin( C * atan( Bx - E * ( Bx - atan(Bx) ) ) )\n",
    "\n",
    "def findMaxSlip(B,C,D,E):\n",
    "    f = 0.0\n",
    "    step = 0.0001\n",
    "    slip = 0.0\n",
    "    while (slip <= 100.0):\n",
    "        newF = pacejkaMF(slip, B, C, D, E)\n",
    "        if newF >= f:\n",
    "#             print(f\"still climbing: {newF:.4f}\")\n",
    "            f = newF\n",
    "        else:\n",
    "#             print(f\"max slip @ {slip:.2f} -> {newF:.4f} < {f:.4f}\")\n",
    "            return slip\n",
    "        slip += step\n",
    "    return slip"
   ]
  },
  {
   "cell_type": "code",
   "execution_count": 73,
   "id": "0c2ae913",
   "metadata": {},
   "outputs": [
    {
     "name": "stdout",
     "output_type": "stream",
     "text": [
      "1.9233999999998046\n"
     ]
    }
   ],
   "source": [
    "print(findMaxSlip(0.814, 1.52, 1.0, -0.2))"
   ]
  },
  {
   "cell_type": "code",
   "execution_count": 74,
   "id": "13021322",
   "metadata": {},
   "outputs": [
    {
     "data": {
      "application/vnd.jupyter.widget-view+json": {
       "model_id": "799e86485e19440d99444d1bdc5a664a",
       "version_major": 2,
       "version_minor": 0
      },
      "text/plain": [
       "interactive(children=(FloatSlider(value=0.82, description='B', max=2.0, step=0.01), FloatSlider(value=1.25, de…"
      ]
     },
     "metadata": {},
     "output_type": "display_data"
    }
   ],
   "source": [
    "slip_ratio = np.linspace(-100.0, 100.0, 200)\n",
    "\n",
    "def plotF(B, C, D, E):\n",
    "    F = np.vectorize(pacejkaMF)(slip_ratio, B, C, D, E)\n",
    "    \n",
    "    # find max slip\n",
    "    max_slip = findMaxSlip(B, C, D, E)\n",
    "    \n",
    "    fig = plt.figure(figsize=(14, 5))\n",
    "    plt.plot(slip_ratio, F)\n",
    "    plt.axvline(0.0, color='k')\n",
    "    plt.axvline(max_slip, color='r', linestyle='dashed')\n",
    "    plt.text(max_slip, 0.0, \"max_slip = %.4f\" % (max_slip))\n",
    "    plt.grid()\n",
    "    plt.show()\n",
    "    \n",
    "# plotF(0.514, 1.45, 1.0, -0.2)\n",
    "iplot = interactive(plotF,\n",
    "    B=FloatSlider(min=0.0, max=2.0, step=0.01, value=0.82),\n",
    "    C=FloatSlider(min=0.0, max=2.0, step=0.01, value=1.25),\n",
    "    D=1.0,\n",
    "    E=FloatSlider(min=-1.0, max=1.0, step=0.01, value=-0.2)\n",
    ")\n",
    "\n",
    "iplot"
   ]
  }
 ],
 "metadata": {
  "kernelspec": {
   "display_name": "Python 3 (ipykernel)",
   "language": "python",
   "name": "python3"
  },
  "language_info": {
   "codemirror_mode": {
    "name": "ipython",
    "version": 3
   },
   "file_extension": ".py",
   "mimetype": "text/x-python",
   "name": "python",
   "nbconvert_exporter": "python",
   "pygments_lexer": "ipython3",
   "version": "3.8.10"
  }
 },
 "nbformat": 4,
 "nbformat_minor": 5
}
